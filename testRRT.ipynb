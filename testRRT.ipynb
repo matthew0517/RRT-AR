{
 "cells": [
  {
   "attachments": {},
   "cell_type": "markdown",
   "metadata": {},
   "source": [
    "## Test 1: import c++ and add a single point\n",
    "Starting from a single input point.  Store and input from python and plot there. "
   ]
  },
  {
   "cell_type": "code",
   "execution_count": 1,
   "metadata": {},
   "outputs": [
    {
     "name": "stdout",
     "output_type": "stream",
     "text": [
      "/home/matthew/Documents/RRT-AR\n",
      "/home/matthew/anaconda3/envs/RRT-AR/bin/python\n",
      "[[4.0, 4.0]]\n"
     ]
    }
   ],
   "source": [
    "import os\n",
    "print(os.getcwd())\n",
    "\n",
    "import sys\n",
    "print(sys.executable)\n",
    "sys.path.insert(0, './build')\n",
    "import RRTAR\n",
    "print(RRTAR.runRRT(4.0, 4.0, 0))"
   ]
  },
  {
   "attachments": {},
   "cell_type": "markdown",
   "metadata": {},
   "source": [
    "## Misc"
   ]
  },
  {
   "cell_type": "code",
   "execution_count": 1,
   "metadata": {},
   "outputs": [],
   "source": [
    "import numpy as np\n",
    "from scipy.spatial import Delaunay\n",
    "\n",
    "constraints = []\n",
    "constraints.append(np.array([[20, 50], [20, 150], [40, 150], [40, 50]]))\n",
    "constraints.append(np.array([[10, 10], [10, 30], [40, 30], [40, 10]]))\n",
    "yv, xv = np.meshgrid(range(0, 200), range(0, 200))\n",
    "og = np.zeros_like(xv)\n",
    "\n",
    "for constraint in constraints:\n",
    "    hull = Delaunay(constraint)\n",
    "    ogInner = np.zeros_like(xv)\n",
    "    len, wid = xv.shape\n",
    "    for i in range(len):\n",
    "        for j in range(wid):\n",
    "            ogInner[i, j] = hull.find_simplex([xv[i,j],yv[i,j]])\n",
    "\n",
    "\n",
    "    og[ogInner != -1] = 1\n"
   ]
  },
  {
   "cell_type": "code",
   "execution_count": 3,
   "metadata": {},
   "outputs": [
    {
     "ename": "AttributeError",
     "evalue": "./RRT-AR.so: undefined symbol: mult_numbers",
     "output_type": "error",
     "traceback": [
      "\u001b[0;31m---------------------------------------------------------------------------\u001b[0m",
      "\u001b[0;31mAttributeError\u001b[0m                            Traceback (most recent call last)",
      "Cell \u001b[0;32mIn[3], line 7\u001b[0m\n\u001b[1;32m      4\u001b[0m lib \u001b[39m=\u001b[39m CDLL(\u001b[39m'\u001b[39m\u001b[39m./RRT-AR.so\u001b[39m\u001b[39m'\u001b[39m)\n\u001b[1;32m      6\u001b[0m \u001b[39m# Call the C++ function\u001b[39;00m\n\u001b[0;32m----> 7\u001b[0m result \u001b[39m=\u001b[39m lib\u001b[39m.\u001b[39mmult_numbers(\u001b[39m3\u001b[39m, \u001b[39m4\u001b[39m)\n\u001b[1;32m      8\u001b[0m \u001b[39mprint\u001b[39m(\u001b[39m\"\u001b[39m\u001b[39mResult:\u001b[39m\u001b[39m\"\u001b[39m, result)\n",
      "File \u001b[0;32m~/anaconda3/envs/RRT-AR/lib/python3.11/ctypes/__init__.py:389\u001b[0m, in \u001b[0;36mCDLL.__getattr__\u001b[0;34m(self, name)\u001b[0m\n\u001b[1;32m    387\u001b[0m \u001b[39mif\u001b[39;00m name\u001b[39m.\u001b[39mstartswith(\u001b[39m'\u001b[39m\u001b[39m__\u001b[39m\u001b[39m'\u001b[39m) \u001b[39mand\u001b[39;00m name\u001b[39m.\u001b[39mendswith(\u001b[39m'\u001b[39m\u001b[39m__\u001b[39m\u001b[39m'\u001b[39m):\n\u001b[1;32m    388\u001b[0m     \u001b[39mraise\u001b[39;00m \u001b[39mAttributeError\u001b[39;00m(name)\n\u001b[0;32m--> 389\u001b[0m func \u001b[39m=\u001b[39m \u001b[39mself\u001b[39m\u001b[39m.\u001b[39m\u001b[39m__getitem__\u001b[39m(name)\n\u001b[1;32m    390\u001b[0m \u001b[39msetattr\u001b[39m(\u001b[39mself\u001b[39m, name, func)\n\u001b[1;32m    391\u001b[0m \u001b[39mreturn\u001b[39;00m func\n",
      "File \u001b[0;32m~/anaconda3/envs/RRT-AR/lib/python3.11/ctypes/__init__.py:394\u001b[0m, in \u001b[0;36mCDLL.__getitem__\u001b[0;34m(self, name_or_ordinal)\u001b[0m\n\u001b[1;32m    393\u001b[0m \u001b[39mdef\u001b[39;00m \u001b[39m__getitem__\u001b[39m(\u001b[39mself\u001b[39m, name_or_ordinal):\n\u001b[0;32m--> 394\u001b[0m     func \u001b[39m=\u001b[39m \u001b[39mself\u001b[39m\u001b[39m.\u001b[39m_FuncPtr((name_or_ordinal, \u001b[39mself\u001b[39m))\n\u001b[1;32m    395\u001b[0m     \u001b[39mif\u001b[39;00m \u001b[39mnot\u001b[39;00m \u001b[39misinstance\u001b[39m(name_or_ordinal, \u001b[39mint\u001b[39m):\n\u001b[1;32m    396\u001b[0m         func\u001b[39m.\u001b[39m\u001b[39m__name__\u001b[39m \u001b[39m=\u001b[39m name_or_ordinal\n",
      "\u001b[0;31mAttributeError\u001b[0m: ./RRT-AR.so: undefined symbol: mult_numbers"
     ]
    }
   ],
   "source": [
    "from ctypes import CDLL\n",
    "\n",
    "# Load the shared library\n",
    "lib = CDLL('./RRT-AR.so')\n",
    "\n",
    "# Call the C++ function\n",
    "result = lib.mult_numbers(3, 4)\n",
    "print(\"Result:\", result)"
   ]
  }
 ],
 "metadata": {
  "kernelspec": {
   "display_name": "RRT-AR",
   "language": "python",
   "name": "python3"
  },
  "language_info": {
   "codemirror_mode": {
    "name": "ipython",
    "version": 3
   },
   "file_extension": ".py",
   "mimetype": "text/x-python",
   "name": "python",
   "nbconvert_exporter": "python",
   "pygments_lexer": "ipython3",
   "version": "3.9.16"
  },
  "orig_nbformat": 4,
  "vscode": {
   "interpreter": {
    "hash": "26da9e9a47f72607f7b79c04a433f45d7ac443b9a0fac092a9740cfe95819927"
   }
  }
 },
 "nbformat": 4,
 "nbformat_minor": 2
}
